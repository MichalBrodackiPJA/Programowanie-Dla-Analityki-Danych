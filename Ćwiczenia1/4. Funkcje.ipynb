{
 "cells": [
  {
   "cell_type": "markdown",
   "metadata": {},
   "source": [
    "# Funkcje"
   ]
  },
  {
   "cell_type": "markdown",
   "metadata": {},
   "source": [
    "## Definiowanie Fukncji"
   ]
  },
  {
   "cell_type": "markdown",
   "metadata": {},
   "source": [
    "- Widzieliśmy już pętle for jako sposób na przestrzeganie zasady DRY (Don't Repeat Yourself).\n",
    "- Następnym ważnym krokiem są funkcje.\n",
    "- Funkcje umożliwiają zaprogramowanie bloku kodu, który działa tylko po wywołaniu.\n",
    "- Oznacza to, że możemy uniknąć konieczności ponownego definiowania tych samych operacji, gdy wykonujemy je wielokrotnie.\n",
    "<br><br>\n",
    "- Funkcja przyjmuje parametry i zwraca dane wyjściowe.\n",
    "- Wartość przekazana jako parametr nazywana jest argumentem.\n",
    "- Funkcja powiązana z obiektem nazywana jest metodą.\n",
    "- Instancja funkcji nazywana jest wywołaniem funkcji.\n",
    "- Podstawowa składnia funkcji jest następująca:"
   ]
  },
  {
   "cell_type": "code",
   "execution_count": 37,
   "metadata": {},
   "outputs": [],
   "source": [
    "# function definition\n",
    "def function_name (param1, param2 = 1):\n",
    "    '''\n",
    "    DOCSTRING: explains function\n",
    "    INPUT: Name (str)\n",
    "    OUTPUT: Hello Name (str)\n",
    "    '''\n",
    "    # add code to run\n",
    "    return(\"Hello \" + param1)"
   ]
  },
  {
   "cell_type": "code",
   "execution_count": 38,
   "metadata": {},
   "outputs": [
    {
     "data": {
      "text/plain": [
       "'Hello Zain'"
      ]
     },
     "execution_count": 38,
     "metadata": {},
     "output_type": "execute_result"
    }
   ],
   "source": [
    "# function call\n",
    "function_name(\"Zain\")"
   ]
  },
  {
   "cell_type": "code",
   "execution_count": 39,
   "metadata": {},
   "outputs": [
    {
     "data": {
      "text/plain": [
       "<function __main__.function_name(param1, param2=1)>"
      ]
     },
     "execution_count": 39,
     "metadata": {},
     "output_type": "execute_result"
    }
   ],
   "source": [
    "function_name"
   ]
  },
  {
   "cell_type": "markdown",
   "metadata": {},
   "source": [
    "- Słowo kluczowe __def__ pokazuje pythona, którego zamierzasz zdefiniować.\n",
    "- __Nazwa funkcji__ jest następna, nazwij wszystkie małe litery, oddzielone podkreśleniami, nie używaj wbudowanych słów kluczowych: zobacz PEP8 po szczegóły.\n",
    "- __Parametry__ zdefiniowane w nawiasach.\n",
    "- __Argumenty domyślne__ to argumenty, które mają wartość domyślną do przywrócenia, jeśli nie określono innej wartości. W tym przypadku param2 = 1 oznacza, że ​​param2 będzie wynosić 1, chyba że zostanie określone jako coś innego w wywołaniu funkcji.\n",
    "- __Dwukropek__ oznacza koniec linii definicji, następny wiersz będzie wcięty.\n",
    "- __Docstrings__ wyjaśnij, co robi funkcja: przeczytaj PEP257 lub google __*'python docstrings'*__, aby uzyskać wskazówki.\n",
    "- https://www.python.org/dev/peps/pep-0257/\n",
    "- Słowo kluczowe __return__ wskazuje wyjście funkcji.\n",
    "<br><br>\n",
    "- Wykonując wywołanie funkcji, piszemy nazwę funkcji, a po niej nawiasy zawierające argumenty do przekazania.\n",
    "- __POWOLNY BŁĄD: jeśli wywołasz funkcję bez nawiasów, nie będzie działać!!!__\n",
    "- Po prostu pokaże informacje o funkcji, w tym moduł, do którego należy, jej nazwę i parametry, które przyjmuje."
   ]
  },
  {
   "cell_type": "markdown",
   "metadata": {},
   "source": [
    "## help()"
   ]
  },
  {
   "cell_type": "markdown",
   "metadata": {},
   "source": [
    "- Możemy użyć funkcji help(), aby znaleźć dokumentację, jeśli nie wiemy, co robi funkcja.\n",
    "- Lub naciśnij Shift + Tab.\n",
    "- Aby uzyskać bardziej szczegółową dokumentację, lepiej znaleźć i wykorzystać pełną dokumentację funkcji (google it!)."
   ]
  },
  {
   "cell_type": "code",
   "execution_count": 40,
   "metadata": {},
   "outputs": [
    {
     "name": "stdout",
     "output_type": "stream",
     "text": [
      "Help on function function_name in module __main__:\n",
      "\n",
      "function_name(param1, param2=1)\n",
      "    DOCSTRING: explains function\n",
      "    INPUT: Name (str)\n",
      "    OUTPUT: Hello Name (str)\n",
      "\n"
     ]
    }
   ],
   "source": [
    "help(function_name)"
   ]
  },
  {
   "cell_type": "code",
   "execution_count": 41,
   "metadata": {},
   "outputs": [
    {
     "name": "stdout",
     "output_type": "stream",
     "text": [
      "Help on built-in function print in module builtins:\n",
      "\n",
      "print(...)\n",
      "    print(value, ..., sep=' ', end='\\n', file=sys.stdout, flush=False)\n",
      "    \n",
      "    Prints the values to a stream, or to sys.stdout by default.\n",
      "    Optional keyword arguments:\n",
      "    file:  a file-like object (stream); defaults to the current sys.stdout.\n",
      "    sep:   string inserted between values, default a space.\n",
      "    end:   string appended after the last value, default a newline.\n",
      "    flush: whether to forcibly flush the stream.\n",
      "\n"
     ]
    }
   ],
   "source": [
    "help(print)"
   ]
  },
  {
   "cell_type": "markdown",
   "metadata": {},
   "source": [
    "## Zakres zmiennej"
   ]
  },
  {
   "cell_type": "markdown",
   "metadata": {},
   "source": [
    "- Zakres zmiennej odnosi się do części programu, które mogą odwoływać się do zmiennej.\n",
    "- Istnieją 2 rodzaje zasięgu: lokalny i globalny.\n",
    "— Do zmiennej zdefiniowanej wewnątrz funkcji można się odwoływać tylko wewnątrz tej funkcji: zakres lokalny.\n",
    "— Do zmiennej zdefiniowanej poza funkcją (w ogólnym skrypcie) można się odwoływać wewnątrz funkcji, ale nie można jej modyfikować wewnątrz funkcji (UnboundLocalError).\n",
    "- Aby zmienić go w funkcji, należy go ponownie zdefiniować w funkcji."
   ]
  },
  {
   "cell_type": "code",
   "execution_count": 42,
   "metadata": {},
   "outputs": [
    {
     "ename": "UnboundLocalError",
     "evalue": "local variable 'counter' referenced before assignment",
     "output_type": "error",
     "traceback": [
      "\u001b[1;31m---------------------------------------------------------------------------\u001b[0m",
      "\u001b[1;31mUnboundLocalError\u001b[0m                         Traceback (most recent call last)",
      "\u001b[1;32mc:\\Users\\micha\\Nauka\\StudiaPJAKT\\Semestr1\\Programowanie Dla Analityki Danych\\Programowanie-Dla-Analityki-Danych\\Ćwiczenia1\\4. Funkcje.ipynb Cell 14\u001b[0m line \u001b[0;36m<cell line: 6>\u001b[1;34m()\u001b[0m\n\u001b[0;32m      <a href='vscode-notebook-cell:/c%3A/Users/micha/Nauka/StudiaPJAKT/Semestr1/Programowanie%20Dla%20Analityki%20Danych/Programowanie-Dla-Analityki-Danych/%C4%86wiczenia1/4.%20Funkcje.ipynb#X16sZmlsZQ%3D%3D?line=2'>3</a>\u001b[0m \u001b[39mdef\u001b[39;00m \u001b[39madd_to_counter\u001b[39m():\n\u001b[0;32m      <a href='vscode-notebook-cell:/c%3A/Users/micha/Nauka/StudiaPJAKT/Semestr1/Programowanie%20Dla%20Analityki%20Danych/Programowanie-Dla-Analityki-Danych/%C4%86wiczenia1/4.%20Funkcje.ipynb#X16sZmlsZQ%3D%3D?line=3'>4</a>\u001b[0m     counter \u001b[39m+\u001b[39m\u001b[39m=\u001b[39m \u001b[39m12\u001b[39m \u001b[39m# add 12 to counter\u001b[39;00m\n\u001b[1;32m----> <a href='vscode-notebook-cell:/c%3A/Users/micha/Nauka/StudiaPJAKT/Semestr1/Programowanie%20Dla%20Analityki%20Danych/Programowanie-Dla-Analityki-Danych/%C4%86wiczenia1/4.%20Funkcje.ipynb#X16sZmlsZQ%3D%3D?line=5'>6</a>\u001b[0m add_to_counter()\n",
      "\u001b[1;32mc:\\Users\\micha\\Nauka\\StudiaPJAKT\\Semestr1\\Programowanie Dla Analityki Danych\\Programowanie-Dla-Analityki-Danych\\Ćwiczenia1\\4. Funkcje.ipynb Cell 14\u001b[0m line \u001b[0;36madd_to_counter\u001b[1;34m()\u001b[0m\n\u001b[0;32m      <a href='vscode-notebook-cell:/c%3A/Users/micha/Nauka/StudiaPJAKT/Semestr1/Programowanie%20Dla%20Analityki%20Danych/Programowanie-Dla-Analityki-Danych/%C4%86wiczenia1/4.%20Funkcje.ipynb#X16sZmlsZQ%3D%3D?line=2'>3</a>\u001b[0m \u001b[39mdef\u001b[39;00m \u001b[39madd_to_counter\u001b[39m():\n\u001b[1;32m----> <a href='vscode-notebook-cell:/c%3A/Users/micha/Nauka/StudiaPJAKT/Semestr1/Programowanie%20Dla%20Analityki%20Danych/Programowanie-Dla-Analityki-Danych/%C4%86wiczenia1/4.%20Funkcje.ipynb#X16sZmlsZQ%3D%3D?line=3'>4</a>\u001b[0m     counter \u001b[39m+\u001b[39m\u001b[39m=\u001b[39m \u001b[39m12\u001b[39m\n",
      "\u001b[1;31mUnboundLocalError\u001b[0m: local variable 'counter' referenced before assignment"
     ]
    }
   ],
   "source": [
    "counter = 0\n",
    "\n",
    "def add_to_counter():\n",
    "    counter += 12 # add 12 to counter\n",
    "\n",
    "add_to_counter()"
   ]
  },
  {
   "cell_type": "code",
   "execution_count": 43,
   "metadata": {},
   "outputs": [
    {
     "name": "stdout",
     "output_type": "stream",
     "text": [
      "12\n"
     ]
    }
   ],
   "source": [
    "counter = 0\n",
    "\n",
    "def add_to_counter(count):\n",
    "    return count + 12  # add 12 to counter\n",
    "\n",
    "counter = add_to_counter(counter)\n",
    "\n",
    "print(counter)"
   ]
  },
  {
   "cell_type": "markdown",
   "metadata": {},
   "source": [
    "## Ćwiczenie 1"
   ]
  },
  {
   "cell_type": "markdown",
   "metadata": {},
   "source": [
    "Napisz funkcję o nazwie check_range, która sprawdza, czy liczba znajduje się w podanym zakresie (zawiera zarówno niski *__i__* wysoki). <br>\n",
    "Jeśli tak, zwróć „x jest między y a z”. <br>\n",
    "Jeśli tak nie jest, zwróć „x NIE jest między y a z”. <br>\n",
    "Gdzie:\n",
    "- x to liczba\n",
    "- y jest dolną granicą\n",
    "- z to górna granica"
   ]
  },
  {
   "cell_type": "code",
   "execution_count": 44,
   "metadata": {},
   "outputs": [],
   "source": [
    "# CODE HERE -- Docstringi i zmienne pisałem po angielksu po uważam to za dobrą praktykę, errory i printy pisałem po polsku bo tak mi pasowało do polecenia (zła praktyka -- mieszanie języków)\n",
    "def check_range(x,y,z):\n",
    "    \"\"\"\n",
    "    Check if a number x is within the range defined by lower_limit (y) and upper_limit (z).\n",
    "\n",
    "    Parameters:\n",
    "    x (int or float): The number to be checked.\n",
    "    y (int or float): The lower limit of the range.\n",
    "    z (int or float): The upper limit of the range.\n",
    "\n",
    "    Returns:\n",
    "    str: Returns \"x jest między y a z\" if x is within the range [y, z], \n",
    "         otherwise returns \"x NIE jest między y a z\".\n",
    "    \"\"\"\n",
    "    lower_limit = y\n",
    "    upper_limit = z\n",
    "    number = x\n",
    "    if number >= lower_limit and number <= upper_limit: #Zawiera zarówno niski jak i wysoki, stąd >=, <=\n",
    "        return \"x jest między y a z\"\n",
    "    else:\n",
    "        return \" x NIE jest między y a z\"\n",
    "    \n"
   ]
  },
  {
   "cell_type": "code",
   "execution_count": 45,
   "metadata": {},
   "outputs": [
    {
     "data": {
      "text/plain": [
       "'x jest między y a z'"
      ]
     },
     "execution_count": 45,
     "metadata": {},
     "output_type": "execute_result"
    }
   ],
   "source": [
    "check_range(34, 9, 228)"
   ]
  },
  {
   "cell_type": "code",
   "execution_count": 46,
   "metadata": {},
   "outputs": [
    {
     "data": {
      "text/plain": [
       "' x NIE jest między y a z'"
      ]
     },
     "execution_count": 46,
     "metadata": {},
     "output_type": "execute_result"
    }
   ],
   "source": [
    "check_range(7, 2, 5)"
   ]
  },
  {
   "cell_type": "markdown",
   "metadata": {},
   "source": [
    "Napisz funkcję o nazwie bool_range, która robi to samo, ale zwraca tylko wartość logiczną."
   ]
  },
  {
   "cell_type": "code",
   "execution_count": 47,
   "metadata": {},
   "outputs": [],
   "source": [
    "# CODE HERE\n",
    "def bool_range(x, y, z):\n",
    "    \"\"\"\n",
    "    Check if a number x is within the range defined by lower_limit (y) and upper_limit (z).\n",
    "\n",
    "    Parameters:\n",
    "    x (int or float): The number to be checked.\n",
    "    y (int or float): The lower limit of the range.\n",
    "    z (int or float): The upper limit of the range.\n",
    "\n",
    "    Returns:\n",
    "    bool: Returns True if x is within the range [y, z], otherwise returns False.\n",
    "    \"\"\"\n",
    "    lower_limit = y\n",
    "    upper_limit = z\n",
    "    number = x\n",
    "    return number >= lower_limit and number <= upper_limit"
   ]
  },
  {
   "cell_type": "code",
   "execution_count": 48,
   "metadata": {},
   "outputs": [
    {
     "data": {
      "text/plain": [
       "True"
      ]
     },
     "execution_count": 48,
     "metadata": {},
     "output_type": "execute_result"
    }
   ],
   "source": [
    "bool_range(7, 5, 20)"
   ]
  },
  {
   "cell_type": "code",
   "execution_count": 49,
   "metadata": {},
   "outputs": [
    {
     "data": {
      "text/plain": [
       "False"
      ]
     },
     "execution_count": 49,
     "metadata": {},
     "output_type": "execute_result"
    }
   ],
   "source": [
    "bool_range(67, 22, 25)"
   ]
  },
  {
   "cell_type": "markdown",
   "metadata": {},
   "source": [
    "## Ćwiczenie 2"
   ]
  },
  {
   "cell_type": "markdown",
   "metadata": {},
   "source": [
    "Napisz funkcję o nazwie unique_list, która pobiera listę i zwraca listę zawierającą tylko unikalne elementy danych wejściowych."
   ]
  },
  {
   "cell_type": "code",
   "execution_count": 50,
   "metadata": {},
   "outputs": [],
   "source": [
    "# CODE HERE\n",
    "def unique_list(lista):\n",
    "    \"\"\"\n",
    "    Remove duplicate elements from a list.\n",
    "\n",
    "    Parameters:\n",
    "    lista (list): A list containing elements, which may include duplicates.\n",
    "\n",
    "    Returns:\n",
    "    list: A new list with duplicate elements removed.\n",
    "    \"\"\"\n",
    "    my_set = set(lista)\n",
    "    return list(my_set)\n",
    "\n",
    "#używając list comprehension\n",
    "def unique_list2(lista):\n",
    "    \"\"\"\n",
    "    Remove duplicate elements from a list.\n",
    "\n",
    "    Parameters:\n",
    "    lista (list): A list containing elements, which may include duplicates.\n",
    "\n",
    "    Returns:\n",
    "    list: A new list with duplicate elements removed.\n",
    "    \"\"\"\n",
    "    return [x for i, x in enumerate(lista) if x not in lista[:i]]"
   ]
  },
  {
   "cell_type": "code",
   "execution_count": 51,
   "metadata": {},
   "outputs": [
    {
     "data": {
      "text/plain": [
       "[1, 2, 3, 4, 5, 6, 12, 63]"
      ]
     },
     "execution_count": 51,
     "metadata": {},
     "output_type": "execute_result"
    }
   ],
   "source": [
    "my_list = [1,3,5,6,4,3,2,3,3,4,3,4,5,6,6,4,3,2,12,3,5,63,4,5,3,3,2]\n",
    "\n",
    "unique_list(my_list)"
   ]
  },
  {
   "cell_type": "code",
   "execution_count": 52,
   "metadata": {},
   "outputs": [
    {
     "data": {
      "text/plain": [
       "[1, 3, 5, 6, 4, 2, 12, 63]"
      ]
     },
     "execution_count": 52,
     "metadata": {},
     "output_type": "execute_result"
    }
   ],
   "source": [
    "unique_list2(my_list)"
   ]
  },
  {
   "cell_type": "markdown",
   "metadata": {},
   "source": [
    "Znajdź inny sposób wykonania tej samej operacji bez definiowania funkcji."
   ]
  },
  {
   "cell_type": "code",
   "execution_count": 53,
   "metadata": {},
   "outputs": [
    {
     "data": {
      "text/plain": [
       "[1, 2, 3, 4, 5, 6, 12, 63]"
      ]
     },
     "execution_count": 53,
     "metadata": {},
     "output_type": "execute_result"
    }
   ],
   "source": [
    "# CODE HERE\n",
    "list(set(my_list))"
   ]
  },
  {
   "cell_type": "markdown",
   "metadata": {},
   "source": [
    "## Ćwiczenie 3"
   ]
  },
  {
   "cell_type": "markdown",
   "metadata": {},
   "source": [
    "Napisz funkcję o nazwie objętość_kuli, która przyjmuje promień kuli i zwraca jej objętość zaokrągloną do 2 dp. (Google wzór na objętość kuli, użyj pi = 3,14)\n",
    "\n",
    "tylko do notowania \n",
    "$$V = \\frac{4}{3}\\pi\\cdot r^3$$"
   ]
  },
  {
   "cell_type": "code",
   "execution_count": 67,
   "metadata": {},
   "outputs": [],
   "source": [
    "# CODE HERE\n",
    "import math #potrzebne do pi, mógłbym czytać polecenie ..., poprawione pod w volume_of_sphere2\n",
    "\n",
    "def volume_of_sphere(radius):\n",
    "    \"\"\"\n",
    "    Calculate the volume of a sphere.\n",
    "\n",
    "    This function calculates the volume of a sphere based on its radius and rounds the number to two digits after comma.\n",
    "\n",
    "    Parameters:\n",
    "    radius (float): The radius of the sphere.\n",
    "\n",
    "    Returns:\n",
    "    float: The volume of the sphere.\n",
    "\n",
    "    Example:\n",
    "    >>> volume_of_sphere(3)  \n",
    "    113.09\n",
    "    \"\"\" #fajna linijka do testów powyżej :)\n",
    "    if radius < 0:\n",
    "        raise ValueError(\"Promień nie może być ujemny\")\n",
    "    \n",
    "    volume = (4/3) * math.pi * (radius**3)\n",
    "    return round(volume,2)\n",
    "\n",
    "def volume_of_sphere2(radius):\n",
    "    \"\"\"\n",
    "    Calculate the volume of a sphere.\n",
    "\n",
    "    This function calculates the volume of a sphere based on its radius and rounds the number to two digits after comma.\n",
    "    Rounds pi to 3.14 before calculations.\n",
    "\n",
    "    Parameters:\n",
    "    radius (float): The radius of the sphere.\n",
    "\n",
    "    Returns:\n",
    "    float: The volume of the sphere.\n",
    "\n",
    "    Example:\n",
    "    >>> volume_of_sphere2(2)  \n",
    "    33.49\n",
    "    \"\"\" #fajna linijka do testów powyżej :)\n",
    "    if radius < 0:\n",
    "        raise ValueError(\"Promień nie może być ujemny\")\n",
    "    \n",
    "    volume = (4/3) * 3.14 * (radius**3)\n",
    "    return round(volume,2)"
   ]
  },
  {
   "cell_type": "code",
   "execution_count": 69,
   "metadata": {},
   "outputs": [
    {
     "data": {
      "text/plain": [
       "33.51"
      ]
     },
     "execution_count": 69,
     "metadata": {},
     "output_type": "execute_result"
    }
   ],
   "source": [
    "volume_of_sphere(2) #33.51\n",
    "\n",
    "#volume_of_sphere2(2) #33.49"
   ]
  },
  {
   "cell_type": "code",
   "execution_count": null,
   "metadata": {},
   "outputs": [],
   "source": []
  },
  {
   "cell_type": "markdown",
   "metadata": {},
   "source": [
    "## Rekurencja"
   ]
  },
  {
   "cell_type": "markdown",
   "metadata": {},
   "source": [
    "- Funkcja rekurencyjna to funkcja, która wywołuje siebie w ramach swojej definicji.\n",
    "- Na początku może to być trudne do zrozumienia, ale pomyśl o tym jako o przełamaniu dużego problemu w wielokrotne robienie małego problemu.\n",
    "- Oznacza to, że złożony problem można uprościć, powtarzając przy każdym powtórzeniu prostszą i prostszą formę tego samego problemu.\n",
    "- Musimy jednak podać „najprostszą formę” funkcji, w której funkcja się zatrzymuje, w przeciwnym razie będzie się powtarzać w nieskończoność i wygeneruje błąd.\n",
    "- Nazywamy tę „najprostszą formę” przypadkiem podstawowym.\n",
    "- Najlepiej ilustruje to przykład:"
   ]
  },
  {
   "cell_type": "code",
   "execution_count": 56,
   "metadata": {},
   "outputs": [
    {
     "name": "stdout",
     "output_type": "stream",
     "text": [
      "5\n",
      "4\n",
      "3\n",
      "2\n",
      "1\n",
      "0\n"
     ]
    }
   ],
   "source": [
    "# Funkcja, która przyjmuje jako wejście liczbę początkową do odliczania\n",
    "def countdown(n):\n",
    "    \n",
    "    # przypadek podstawowy: w tym miejscu funkcja ostatecznie się zatrzyma\n",
    "    if n == 0:\n",
    "        print(0)\n",
    "        \n",
    "    # tutaj redukujemy problem do prostszej wersji\n",
    "    else:\n",
    "        \n",
    "        #wypisujemy numer odliczania\n",
    "        print(n)\n",
    "        \n",
    "        # powtarzamy funkcję z następną najmniejszą liczbą\n",
    "        countdown(n-1)\n",
    "        \n",
    "\n",
    "countdown(5)"
   ]
  },
  {
   "cell_type": "code",
   "execution_count": null,
   "metadata": {},
   "outputs": [],
   "source": []
  },
  {
   "cell_type": "markdown",
   "metadata": {},
   "source": [
    "## Ćwiczenie 4"
   ]
  },
  {
   "cell_type": "markdown",
   "metadata": {},
   "source": [
    "Zdefiniuj funkcję rekurencyjną o nazwie num_fact, która zwraca silnię podanej liczby."
   ]
  },
  {
   "cell_type": "code",
   "execution_count": 57,
   "metadata": {},
   "outputs": [
    {
     "data": {
      "text/plain": [
       "3628800"
      ]
     },
     "execution_count": 57,
     "metadata": {},
     "output_type": "execute_result"
    }
   ],
   "source": [
    "# CODE HERE - While byłby lepszy do silni :)\n",
    "def num_fact(number):\n",
    "    \"\"\"\n",
    "    Calculate the factorial of a non-negative integer.\n",
    "\n",
    "    This function computes the factorial of a non-negative integer 'number' using recursion.\n",
    "\n",
    "    Parameters:\n",
    "    number (int): The non-negative integer for which to calculate the factorial.\n",
    "\n",
    "    Returns:\n",
    "    int: The factorial of 'number'. For 'number = 0', the result is 1 by convention.\n",
    "    \n",
    "    Raises:\n",
    "    ValueError: If 'number' is a negative integer.\n",
    "    TypeError: If 'number' is not an integer.\n",
    "    \"\"\"\n",
    "    if number < 0:\n",
    "     raise ValueError(\"Silnia nie przyjmuje liczb ujemnych\")\n",
    "    if type(number) != int:\n",
    "     raise TypeError(\"Klasyczna silnia operuje tylko na liczba naturalnych\")\n",
    "    \n",
    "    if number == 0:\n",
    "        return 1 # silnia z 0 to 1\n",
    "    else:\n",
    "        return number*num_fact(number-1)\n",
    "    \n",
    "num_fact(10)"
   ]
  },
  {
   "cell_type": "code",
   "execution_count": 58,
   "metadata": {},
   "outputs": [
    {
     "name": "stdout",
     "output_type": "stream",
     "text": [
      "3628800\n",
      "True\n",
      "True\n",
      "True\n",
      "True\n",
      "True\n",
      "True\n",
      "True\n",
      "True\n",
      "True\n",
      "True\n",
      "True\n"
     ]
    }
   ],
   "source": [
    "print(num_fact(10))\n",
    "\n",
    "#Dla pewności\n",
    "\n",
    "\n",
    "math.factorial(10)\n",
    "\n",
    "for i in range(0,11):\n",
    "    print(num_fact(i) == math.factorial(i))"
   ]
  },
  {
   "cell_type": "code",
   "execution_count": null,
   "metadata": {},
   "outputs": [],
   "source": []
  },
  {
   "cell_type": "markdown",
   "metadata": {},
   "source": [
    "## Dalsza lektura\n",
    "- Python Function Definitions: https://docs.python.org/3/reference/compound_stmts.html#function-definitions\n",
    "- Python Docstring Conventions: https://www.python.org/dev/peps/pep-0257/"
   ]
  },
  {
   "cell_type": "code",
   "execution_count": null,
   "metadata": {},
   "outputs": [],
   "source": []
  }
 ],
 "metadata": {
  "kernelspec": {
   "display_name": "Python 3",
   "language": "python",
   "name": "python3"
  },
  "language_info": {
   "codemirror_mode": {
    "name": "ipython",
    "version": 3
   },
   "file_extension": ".py",
   "mimetype": "text/x-python",
   "name": "python",
   "nbconvert_exporter": "python",
   "pygments_lexer": "ipython3",
   "version": "3.8.13"
  }
 },
 "nbformat": 4,
 "nbformat_minor": 2
}
